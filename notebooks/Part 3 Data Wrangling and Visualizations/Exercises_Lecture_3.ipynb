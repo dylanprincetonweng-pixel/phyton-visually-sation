{
  "nbformat": 4,
  "nbformat_minor": 0,
  "metadata": {
    "colab": {
      "provenance": []
    },
    "kernelspec": {
      "display_name": "Python 3",
      "name": "python3"
    },
    "language_info": {
      "name": "python"
    }
  },
  "cells": [
    {
      "cell_type": "markdown",
      "metadata": {
        "id": "cbX4sv5InT4F"
      },
      "source": [
        "# **Exercise 1**"
      ]
    },
    {
      "cell_type": "code",
      "metadata": {
        "id": "bnurS2cPphzG"
      },
      "source": [
        "# 1.1 Import numpy and transform the following list into a NumPy array\n",
        "a = [10,39,10,20,40,21,55,23,66,76]\n"
      ],
      "execution_count": null,
      "outputs": []
    },
    {
      "cell_type": "code",
      "source": [],
      "metadata": {
        "id": "bADBQLw8QcH0"
      },
      "execution_count": null,
      "outputs": []
    },
    {
      "cell_type": "code",
      "metadata": {
        "id": "40iy8mevph1v",
        "colab": {
          "base_uri": "https://localhost:8080/"
        },
        "outputId": "ff10ae80-671c-43e7-abaf-818aa3203a29"
      },
      "source": [
        "# 1.2 Select all values larger than 20 with boolean indexing\n"
      ],
      "execution_count": null,
      "outputs": [
        {
          "output_type": "execute_result",
          "data": {
            "text/plain": [
              "array([39, 40, 21, 55, 23, 66, 76])"
            ]
          },
          "metadata": {},
          "execution_count": 42
        }
      ]
    },
    {
      "cell_type": "code",
      "metadata": {
        "id": "LH3Oy4HjplGZ",
        "colab": {
          "base_uri": "https://localhost:8080/"
        },
        "outputId": "54070580-dd6c-4232-83c3-db49c4f74fba"
      },
      "source": [
        "# 1.3 Add the following list of values to a\n",
        "b = [2,4,5]\n"
      ],
      "execution_count": null,
      "outputs": [
        {
          "output_type": "stream",
          "name": "stdout",
          "text": [
            "[10 39 10 20 40 21 55 23 66 76  2  4  5]\n"
          ]
        }
      ]
    },
    {
      "cell_type": "code",
      "metadata": {
        "id": "bXdazPG4pmrB",
        "colab": {
          "base_uri": "https://localhost:8080/"
        },
        "outputId": "ef80f6ff-e0e2-4b6f-ef7e-7a478ae7a550"
      },
      "source": [
        "# 1.4 compute mean and standard deviation of this array\n"
      ],
      "execution_count": null,
      "outputs": [
        {
          "output_type": "stream",
          "name": "stdout",
          "text": [
            "mean 28.53846153846154\n",
            "std 23.705291147808474\n"
          ]
        }
      ]
    },
    {
      "cell_type": "code",
      "metadata": {
        "id": "WBwZFqfMoqx2",
        "colab": {
          "base_uri": "https://localhost:8080/"
        },
        "outputId": "495675fd-340a-4aad-bfa8-33fca2bf75d3"
      },
      "source": [
        "# 1.5  multiply each value in list a by 2\n"
      ],
      "execution_count": null,
      "outputs": [
        {
          "output_type": "execute_result",
          "data": {
            "text/plain": [
              "array([ 9, 38,  9, 19, 39, 20, 54, 22, 65, 75,  1,  3,  4])"
            ]
          },
          "metadata": {},
          "execution_count": 49
        }
      ]
    },
    {
      "cell_type": "markdown",
      "metadata": {
        "id": "lxebFy4Er78g"
      },
      "source": [
        "# **Exercise 2**"
      ]
    },
    {
      "cell_type": "code",
      "metadata": {
        "id": "rofkfbIw5lJT"
      },
      "source": [
        "data = {\n",
        "        \"Name\":[\"Clara\", \"Tom\", \"Sarah\", \"John\"],\n",
        "        \"Gender\":[\"F\",\"M\",\"F\",\"M\"],\n",
        "        \"Age\":[20,25,28,22]\n",
        "        }"
      ],
      "execution_count": null,
      "outputs": []
    },
    {
      "cell_type": "code",
      "metadata": {
        "id": "YTEg_NKDsAqs"
      },
      "source": [
        "# 2.1 import pandas and create a dataframe from dictionary data\n"
      ],
      "execution_count": null,
      "outputs": []
    },
    {
      "cell_type": "code",
      "metadata": {
        "id": "gkFxN8625653"
      },
      "source": [
        "# 2.2 Add a new column 'Grade' with the list grades to the dataframe\n",
        "grades = [2,3,4,1]"
      ],
      "execution_count": null,
      "outputs": []
    },
    {
      "cell_type": "code",
      "metadata": {
        "id": "-4fjdbZBpOOh"
      },
      "source": [
        "# 2.3 sort the entries of the dataframe by their age\n"
      ],
      "execution_count": null,
      "outputs": []
    },
    {
      "cell_type": "code",
      "metadata": {
        "id": "okKlDgEk6UW-"
      },
      "source": [
        "# 2.4 compute the mean age\n"
      ],
      "execution_count": null,
      "outputs": []
    },
    {
      "cell_type": "code",
      "metadata": {
        "id": "ocmW3Y3LkrlE"
      },
      "source": [
        "# 2.5 compute the mean age of all female persons\n"
      ],
      "execution_count": null,
      "outputs": []
    },
    {
      "cell_type": "markdown",
      "metadata": {
        "id": "fJoylNA_tiw7"
      },
      "source": [
        "# **Exercise 3**"
      ]
    },
    {
      "cell_type": "code",
      "metadata": {
        "id": "fHDdL40Utklv"
      },
      "source": [
        "data = {\n",
        "        \"Name\":[\"Clara\", \"Tom\", \"Sarah\"],\n",
        "        \"Gender\":[\"F\",\"M\",\"F\"],\n",
        "        \"Age\":[20,25,28]\n",
        "        }\n",
        "\n",
        "\n",
        "data2 = {\n",
        "        \"Name\":[\"Clara\", \"Tom\", \"John\"],\n",
        "        \"Subject\":[\"Physics\",\"Politics\",\"English\"],\n",
        "        \"Grade\":[2,1,3]\n",
        "        }\n",
        "df1 = pd.DataFrame(data)\n",
        "df2 = pd.DataFrame(data2)"
      ],
      "execution_count": null,
      "outputs": []
    },
    {
      "cell_type": "code",
      "metadata": {
        "id": "Pry5imzsuvHp"
      },
      "source": [
        "# 3.1 merge df1 and df2 on Name, try out left, right joins\n"
      ],
      "execution_count": null,
      "outputs": []
    },
    {
      "cell_type": "code",
      "metadata": {
        "id": "atGnvP38ux7-"
      },
      "source": [
        "# 3.2 Compute the mean age per gender for df1 with a group-by\n"
      ],
      "execution_count": null,
      "outputs": []
    },
    {
      "cell_type": "markdown",
      "metadata": {
        "id": "RYZe_Yvpy8A-"
      },
      "source": [
        "## **Exercise 4**"
      ]
    },
    {
      "cell_type": "code",
      "metadata": {
        "id": "I7yFSy4xy9mX"
      },
      "source": [
        "# Execute this cell to import pandas and load data\n",
        "import pandas as pd\n",
        "df = pd.read_csv('https://drive.google.com/uc?id=1Rzq2VqPVRM2kfMuh_jToJKzKUvBOC0vp')\n",
        "\n",
        "# some cleaning, we come to this topic later\n",
        "df['price'] = df['price'].str.replace('$','').str.replace(',','').astype(float)"
      ],
      "execution_count": 1,
      "outputs": []
    },
    {
      "cell_type": "code",
      "metadata": {
        "id": "OybeCMvIEzX2"
      },
      "source": [
        "# 4.1 show the head (first 5 rows) of dataframe df"
      ],
      "execution_count": null,
      "outputs": []
    },
    {
      "cell_type": "code",
      "metadata": {
        "id": "02LPb75biNTG"
      },
      "source": [
        "# 4.2 import matplotlib.pyplot and create a histogram (plt.hist()) from the price column of dataframe df"
      ],
      "execution_count": null,
      "outputs": []
    },
    {
      "cell_type": "code",
      "metadata": {
        "id": "C5voCbvUVwAC"
      },
      "source": [
        "# 4.3 add the range parameter to the plt.hist call: plt.hist(...,range=(x_min_value, x_max_value))\n"
      ],
      "execution_count": null,
      "outputs": []
    },
    {
      "cell_type": "code",
      "metadata": {
        "id": "5v3uZ4uJwhgq"
      },
      "source": [
        "# 4.4 create a scatter plot with plt.scatter(x,y)\n",
        "# where x is the price column from df and y the square_feet column"
      ],
      "execution_count": null,
      "outputs": []
    }
  ]
}